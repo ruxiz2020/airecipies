{
 "cells": [
  {
   "cell_type": "code",
   "execution_count": 2,
   "id": "19da6e37-06cf-4c57-95cf-a91f27013c89",
   "metadata": {},
   "outputs": [],
   "source": [
    "from allrecipes import AllRecipes\n"
   ]
  },
  {
   "cell_type": "code",
   "execution_count": 3,
   "id": "9a79393c-9e1a-4e6e-8ce7-e96d5cc4cb46",
   "metadata": {},
   "outputs": [
    {
     "name": "stdout",
     "output_type": "stream",
     "text": [
      "## :\n",
      "### For  servings:\n",
      "- 1 cup water\n",
      "- 1 tablespoon dried minced onion\n",
      "- 1 cube chicken bouillon\n",
      "- ½ teaspoon garlic powder\n",
      "- ¼ teaspoon dried rosemary\n",
      "- ¼ teaspoon dried thyme\n",
      "- ¼ teaspoon salt\n",
      "- 3 tablespoons coconut oil\n",
      "- 2 tablespoons curry powder\n",
      "- ½ teaspoon cayenne pepper, or more to taste\n",
      "- 1 pound pork tenderloin, cut into strips\n",
      "- 2 ½ tablespoons all-purpose flour\n",
      "- 1 cup coconut milk\n",
      "- ¼ cup natural peanut butter\n",
      "# Preheat the oven to 350 degrees F (175 degrees C).\n",
      "# Combine water, dried onion, chicken bouillon, garlic powder, rosemary, thyme, and salt in a microwave-safe bowl. Microwave for 1 minute, then let stand until onion is rehydrated and bouillon is dissolved.\n",
      "# Meanwhile, heat coconut oil, curry powder, and cayenne in a large oven-proof skillet over medium heat, stirring constantly, until oil takes on the color of the curry powder, 5 to 6 minutes.\n",
      "# Add pork tenderloin to the skillet; cook and stir until pork begins to brown. Sprinkle flour over pork; cook and stir until pork is slightly pink in the center and cooked through; 2 to 3 minutes more.\n",
      "# Stir in bouillon mixture, coconut milk, and peanut butter. Bring to a boil, stirring constantly. Cover the skillet and transfer to the oven.\n",
      "# Cook in the preheated oven until pork is tender and sauce is bubbling, about 45 minutes. Remove from the oven, uncover, and let rest until the sauce thickens, about 10 minutes.\n"
     ]
    }
   ],
   "source": [
    "\n",
    "# Search:\n",
    "search_string = \"pork curry\"  # Query\n",
    "query_result = AllRecipes.search(search_string)\n",
    "\n",
    "# Get:\n",
    "main_recipe_url = query_result[0]['url']\n",
    "detailed_recipe = AllRecipes.get(main_recipe_url)  # Get the details of the first returned recipe (most relevant in our case)\n",
    "\n",
    "# Display result:\n",
    "print(\"## %s:\" % detailed_recipe['name'])  # Name of the recipe\n",
    "\n",
    "print(\"### For %s servings:\" % detailed_recipe['nb_servings'])\n",
    "for ingredient in detailed_recipe['ingredients']:  # List of ingredients\n",
    "    print(\"- %s\" % ingredient)\n",
    "\n",
    "for step in detailed_recipe['steps']:  # List of cooking steps\n",
    "    print(\"# %s\" % step)"
   ]
  },
  {
   "cell_type": "code",
   "execution_count": 4,
   "id": "14a69e26-c68c-4cbe-8ab7-87913ead177f",
   "metadata": {},
   "outputs": [
    {
     "data": {
      "text/plain": [
       "{'url': 'https://www.allrecipes.com/recipe/234659/spicy-pork-curry/',\n",
       " 'name': '',\n",
       " 'ingredients': ['1 cup water',\n",
       "  '1 tablespoon dried minced onion',\n",
       "  '1 cube chicken bouillon',\n",
       "  '½ teaspoon garlic powder',\n",
       "  '¼ teaspoon dried rosemary',\n",
       "  '¼ teaspoon dried thyme',\n",
       "  '¼ teaspoon salt',\n",
       "  '3 tablespoons coconut oil',\n",
       "  '2 tablespoons curry powder',\n",
       "  '½ teaspoon cayenne pepper, or more to taste',\n",
       "  '1 pound pork tenderloin, cut into strips',\n",
       "  '2 ½ tablespoons all-purpose flour',\n",
       "  '1 cup coconut milk',\n",
       "  '¼ cup natural peanut butter'],\n",
       " 'steps': ['Preheat the oven to 350 degrees F (175 degrees C).',\n",
       "  'Combine water, dried onion, chicken bouillon, garlic powder, rosemary, thyme, and salt in a microwave-safe bowl. Microwave for 1 minute, then let stand until onion is rehydrated and bouillon is dissolved.',\n",
       "  'Meanwhile, heat coconut oil, curry powder, and cayenne in a large oven-proof skillet over medium heat, stirring constantly, until oil takes on the color of the curry powder, 5 to 6 minutes.',\n",
       "  'Add pork tenderloin to the skillet; cook and stir until pork begins to brown. Sprinkle flour over pork; cook and stir until pork is slightly pink in the center and cooked through; 2 to 3 minutes more.',\n",
       "  'Stir in bouillon mixture, coconut milk, and peanut butter. Bring to a boil, stirring constantly. Cover the skillet and transfer to the oven.',\n",
       "  'Cook in the preheated oven until pork is tender and sauce is bubbling, about 45 minutes. Remove from the oven, uncover, and let rest until the sauce thickens, about 10 minutes.'],\n",
       " 'rating': None,\n",
       " 'prep_time': '',\n",
       " 'cook_time': '',\n",
       " 'total_time': '',\n",
       " 'nb_servings': ''}"
      ]
     },
     "execution_count": 4,
     "metadata": {},
     "output_type": "execute_result"
    }
   ],
   "source": [
    "detailed_recipe"
   ]
  },
  {
   "cell_type": "code",
   "execution_count": null,
   "id": "eb9a52ac-f4a9-462b-9591-814d99b7e131",
   "metadata": {},
   "outputs": [],
   "source": []
  }
 ],
 "metadata": {
  "kernelspec": {
   "display_name": "Python 3 (ipykernel)",
   "language": "python",
   "name": "python3"
  },
  "language_info": {
   "codemirror_mode": {
    "name": "ipython",
    "version": 3
   },
   "file_extension": ".py",
   "mimetype": "text/x-python",
   "name": "python",
   "nbconvert_exporter": "python",
   "pygments_lexer": "ipython3",
   "version": "3.9.6"
  }
 },
 "nbformat": 4,
 "nbformat_minor": 5
}
